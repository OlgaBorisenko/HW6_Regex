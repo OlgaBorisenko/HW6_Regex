{
 "cells": [
  {
   "cell_type": "markdown",
   "metadata": {},
   "source": [
    "# Домашнее задание к лекции \"Регулярные выражения\"\n",
    "Для зачета необходимо выполнить 4 задания.  \n",
    "Для зачета с отличием – все."
   ]
  },
  {
   "cell_type": "markdown",
   "metadata": {},
   "source": [
    "## Задание 1"
   ]
  },
  {
   "cell_type": "markdown",
   "metadata": {},
   "source": [
    "Напишите функцию, которая принимает на вход строку и проверяет является ли она валидным транспортным номером. Если да, то функция должна возвращать отдельно номер и регион."
   ]
  },
  {
   "cell_type": "code",
   "execution_count": 43,
   "metadata": {},
   "outputs": [],
   "source": [
    "import re"
   ]
  },
  {
   "cell_type": "code",
   "execution_count": null,
   "metadata": {},
   "outputs": [],
   "source": [
    "\n",
    "def check_number():\n",
    "    number = input('Введите номер транспортного средства — без пробелов, используя строчные буквы русского алфавита и цифры: ')\n",
    "    personal_car = re.match(r'^(а|в|е|к|м|н|о|р|с|т|у|х)(\\d{3})(а|в|е|к|м|н|о|р|с|т|у|х){2}(\\d{2,3})$', number)\n",
    "    taxi = re.match(r'^(а|в|е|к|м|н|о|р|с|т|у|х){2}(\\d{3})(\\d{2,3})$', number)\n",
    "    trailer = re.match(r'^(а|в|е|к|м|н|о|р|с|т|у|х){2}(\\d{4})(\\d{2,3})$', number)\n",
    "    tractor_or_motorbike = re.match(r'^(\\d{4})(а|в|е|к|м|н|о|р|с|т|у|х){2}(\\d{2,3})$', number)\n",
    "    \n",
    "    if personal_car:\n",
    "        return f'Номер для личного легкового автомобиля. Номерная часть — {personal_car.group(2)}, регион — {personal_car.group(4)}'\n",
    "    elif taxi:\n",
    "        return f'Номер для транспортного средства, лицензированного как такси или транспорт для перевозки более 8 человек. Номерная часть — {taxi.group(2)}, регион — {taxi.group(3)}'\n",
    "    elif trailer:\n",
    "        return f'Номер для прицепа. Номерная часть — {trailer.group(2)}, регион — {trailer.group(3)}'\n",
    "    elif tractor_or_motorbike:\n",
    "        return f'Номер для трактора, другой с/х или строительной техники, а также мотоциклов. Номерная часть — {tractor_or_motorbike.group(1)}, регион — {tractor_or_motorbike.group(3)}'\n",
    "    return f'Проверьте, правильно ли вы ввели номер, и попробуйте снова.'\n",
    "    \n",
    "check_number()"
   ]
  },
  {
   "cell_type": "markdown",
   "metadata": {},
   "source": [
    "## Задание 2"
   ]
  },
  {
   "cell_type": "markdown",
   "metadata": {},
   "source": [
    "Напишите функцию, которая проверяет e-mail адрес на валидность по стандарту RFC822: http://www.w3.org/Protocols/rfc822/. Для этого постарайтесь написать (в крайнем случае найти) самый полный шаблон для проверки e-mail адресов через регулярное выражение. Разберитесь и напишите примеры, какие ваш шаблон может не охватить."
   ]
  },
  {
   "cell_type": "code",
   "execution_count": null,
   "metadata": {},
   "outputs": [],
   "source": []
  },
  {
   "cell_type": "markdown",
   "metadata": {},
   "source": [
    "## Задание 3\n",
    "Напишите функцию, которая будет удалять все последовательные повторы слов из заданной строки. \n",
    "'Как как Удалить удалить удалить      повторяющиеся слова слова ??'"
   ]
  },
  {
   "cell_type": "code",
   "execution_count": 16,
   "metadata": {},
   "outputs": [
    {
     "data": {
      "text/plain": [
       "'Как удалить повторяющиеся слова'"
      ]
     },
     "execution_count": 16,
     "metadata": {},
     "output_type": "execute_result"
    }
   ],
   "source": [
    "def del_double_words(phrase):\n",
    "    words_in_phrase = re.findall(r'\\w+', phrase)\n",
    "    lower_phrase = []\n",
    "    i = 0\n",
    "    for word in words_in_phrase:\n",
    "        if word.casefold() not in lower_phrase:\n",
    "            lower_phrase.append(word.casefold())\n",
    "    phrase = ' '.join(lower_phrase).capitalize()\n",
    "    return phrase\n",
    "\n",
    "    \n",
    "del_double_words('Как как Удалить удалить удалить повторяющиеся слова слова ??')"
   ]
  },
  {
   "cell_type": "markdown",
   "metadata": {},
   "source": [
    "## Задание 4\n",
    "Напишите функцию, которая будет проверять номер сотового телефона на валидность, если он валиден, то переводить его в формат:   \n",
    "+7(xxx)-xxx-xx-xx  \n",
    "Постарайтесь предусмотреть как можно больше адекватных форматов изначального ввода номера.\n",
    "Примеры правильных и неправильных форматов:\n",
    "- +7 955 555-55-55;\n",
    "- 955555555;\n",
    "- 8(955)555-55-55;\n",
    "- +7 955 555 55 55;\n",
    "- 7(955) 555-55-55;\n",
    "- +7 955+555+55+55."
   ]
  },
  {
   "cell_type": "code",
   "execution_count": 105,
   "metadata": {},
   "outputs": [
    {
     "name": "stdout",
     "output_type": "stream",
     "text": [
      "8955555555\n"
     ]
    },
    {
     "data": {
      "text/plain": [
       "'Проверьте номер и введите его заново'"
      ]
     },
     "execution_count": 105,
     "metadata": {},
     "output_type": "execute_result"
    }
   ],
   "source": [
    "def check_and_convert_phone(number):\n",
    "    number = re.sub(r'[^0-9]+', r'', number)\n",
    "    print(number)\n",
    "\n",
    "    start_with_8_7 = re.match(r'^([7|8])(\\d{10})', number)\n",
    "    start_without_8_7 = re.match(r'^(\\d{10})', number)\n",
    "    short_start_with_7_8 = re.match(r'^([7|8])(\\d{9})', number)\n",
    "    \n",
    "    if start_with_8_7:\n",
    "        number = re.sub(r'(\\d)(\\d{3})(\\d{3})(\\d{2})(\\d{2})', r'+7(\\2)-\\3-\\4-\\5', number)\n",
    "    \n",
    "    elif short_start_with_7_8:\n",
    "        number = 'Проверьте номер и введите его заново'\n",
    "    \n",
    "    elif start_without_8_7:\n",
    "        number = re.sub(r'(\\d{3})(\\d{3})(\\d{2})(\\d{2})', r'+7(\\1)-\\2-\\3-\\4', number)\n",
    "    \n",
    "    else:\n",
    "        number = 'Проверьте номер и введите его заново'\n",
    "    \n",
    "    return number\n",
    "\n",
    "check_and_convert_phone('8955555555')"
   ]
  },
  {
   "cell_type": "code",
   "execution_count": null,
   "metadata": {},
   "outputs": [],
   "source": []
  }
 ],
 "metadata": {
  "kernelspec": {
   "display_name": "Python 3",
   "language": "python",
   "name": "python3"
  },
  "language_info": {
   "codemirror_mode": {
    "name": "ipython",
    "version": 3
   },
   "file_extension": ".py",
   "mimetype": "text/x-python",
   "name": "python",
   "nbconvert_exporter": "python",
   "pygments_lexer": "ipython3",
   "version": "3.7.4"
  }
 },
 "nbformat": 4,
 "nbformat_minor": 2
}
